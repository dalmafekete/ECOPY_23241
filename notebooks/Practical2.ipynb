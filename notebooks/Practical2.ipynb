{
 "cells": [
  {
   "cell_type": "markdown",
   "source": [
    "## A feladatok megoldása során csak a random, typing, math és pyerf modulok importálása elfogadott"
   ],
   "metadata": {
    "collapsed": false
   },
   "id": "d505d83ecd86220f"
  },
  {
   "cell_type": "markdown",
   "source": [
    "### A véletlenszám generálással kapcsolatos feladatok megoldását mentse src/utils modul-ba a **rand_wrappers.py** nevű fájlba"
   ],
   "metadata": {
    "collapsed": false
   },
   "id": "391cdb89db517673"
  },
  {
   "cell_type": "markdown",
   "source": [
    "#### I. Véletlenszám generálás"
   ],
   "metadata": {
    "collapsed": false
   },
   "id": "2b075b97100da4f5"
  },
  {
   "cell_type": "code",
   "execution_count": null,
   "outputs": [],
   "source": [
    "\"\"\"\n",
    "0. Importáld a random modult\n",
    "\"\"\""
   ],
   "metadata": {
    "collapsed": false
   },
   "id": "cbd02be6fcc0366a"
  },
  {
   "cell_type": "code",
   "execution_count": 53,
   "outputs": [],
   "source": [
    "import random\n",
    "import math\n",
    "import typing\n",
    "import pyerf"
   ],
   "metadata": {
    "collapsed": false,
    "ExecuteTime": {
     "end_time": "2023-09-27T11:21:09.447925Z",
     "start_time": "2023-09-27T11:21:09.390449Z"
    }
   },
   "id": "293149d5d3d7699c"
  },
  {
   "cell_type": "code",
   "execution_count": 60,
   "outputs": [
    {
     "ename": "TypeError",
     "evalue": "'float' object is not callable",
     "output_type": "error",
     "traceback": [
      "\u001B[0;31m---------------------------------------------------------------------------\u001B[0m",
      "\u001B[0;31mTypeError\u001B[0m                                 Traceback (most recent call last)",
      "Cell \u001B[0;32mIn[60], line 2\u001B[0m\n\u001B[1;32m      1\u001B[0m pyerf\u001B[38;5;241m.\u001B[39merf(\u001B[38;5;241m0.5\u001B[39m)\n\u001B[0;32m----> 2\u001B[0m \u001B[38;5;28mprint\u001B[39m(\u001B[43mmath\u001B[49m\u001B[38;5;241;43m.\u001B[39;49m\u001B[43me\u001B[49m\u001B[43m(\u001B[49m\u001B[43m)\u001B[49m)\n",
      "\u001B[0;31mTypeError\u001B[0m: 'float' object is not callable"
     ]
    }
   ],
   "source": [
    "pyerf.erf(0.5)"
   ],
   "metadata": {
    "collapsed": false,
    "ExecuteTime": {
     "end_time": "2023-09-27T11:41:50.248128Z",
     "start_time": "2023-09-27T11:41:50.138479Z"
    }
   },
   "id": "cced16e19aac120a"
  },
  {
   "cell_type": "code",
   "execution_count": 4,
   "outputs": [
    {
     "data": {
      "text/plain": "'\\n 1., Hívd meg a random szám generátort, és generálj egy 0 és 1 közötti véletlen számot\\n'"
     },
     "execution_count": 4,
     "metadata": {},
     "output_type": "execute_result"
    }
   ],
   "source": [
    "\"\"\"\n",
    " 1., Hívd meg a random szám generátort, és generálj egy 0 és 1 közötti véletlen számot\n",
    "\"\"\""
   ],
   "metadata": {
    "collapsed": false,
    "ExecuteTime": {
     "end_time": "2023-09-25T12:22:22.621907Z",
     "start_time": "2023-09-25T12:22:22.104866Z"
    }
   },
   "id": "eb4ecd4b7ce19422"
  },
  {
   "cell_type": "code",
   "execution_count": 24,
   "outputs": [
    {
     "name": "stdout",
     "output_type": "stream",
     "text": [
      "0.08693883262941615\n",
      "0.4219218196852704\n"
     ]
    }
   ],
   "source": [
    "mylist = [1, 2, 3, 3, 4, 5, 6, 7, 8, 9]\n",
    "print(random.uniform(0,1))\n",
    "print(random.random())"
   ],
   "metadata": {
    "collapsed": false,
    "ExecuteTime": {
     "end_time": "2023-09-25T13:49:43.614095Z",
     "start_time": "2023-09-25T13:49:43.229809Z"
    }
   },
   "id": "43b12980ba15149a"
  },
  {
   "cell_type": "code",
   "execution_count": null,
   "outputs": [],
   "source": [
    "\"\"\"\n",
    "2., Generálj 1 és 100 közötti egész véletlen számokat\n",
    "\"\"\""
   ],
   "metadata": {
    "collapsed": false
   },
   "id": "2256690fb4b1ec52"
  },
  {
   "cell_type": "code",
   "execution_count": 10,
   "outputs": [
    {
     "name": "stdout",
     "output_type": "stream",
     "text": [
      "34\n"
     ]
    }
   ],
   "source": [
    "print(random.randint(1,100))"
   ],
   "metadata": {
    "collapsed": false,
    "ExecuteTime": {
     "end_time": "2023-09-25T11:58:32.141659Z",
     "start_time": "2023-09-25T11:58:32.085327Z"
    }
   },
   "id": "a06c7bcdb2f0479c"
  },
  {
   "cell_type": "code",
   "execution_count": null,
   "outputs": [],
   "source": [
    "\"\"\"\n",
    "3. Generálj 1 és 100 közötti véletlen egész számot, olyan módon, hogy a random seed értéke 42 legyen\n",
    "\"\"\""
   ],
   "metadata": {
    "collapsed": false
   },
   "id": "2619e1f9970a541"
  },
  {
   "cell_type": "code",
   "execution_count": 25,
   "outputs": [
    {
     "name": "stdout",
     "output_type": "stream",
     "text": [
      "82\n"
     ]
    }
   ],
   "source": [
    "seed = 42\n",
    "random.seed(seed)\n",
    "print(random.randint(1,100))"
   ],
   "metadata": {
    "collapsed": false,
    "ExecuteTime": {
     "end_time": "2023-09-25T13:49:59.719441Z",
     "start_time": "2023-09-25T13:49:59.063999Z"
    }
   },
   "id": "32dc9cba11559ce6"
  },
  {
   "cell_type": "code",
   "execution_count": null,
   "outputs": [],
   "source": [
    "\"\"\"\n",
    "4., Készíts egy függvényt, ami visszaad egy véletlenül kiválasztott elemet egy egész számokat tartalmazó listából.\n",
    "    függvény neve: random_from_list\n",
    "    bemenet: input_list\n",
    "    kimenetí típus: int\n",
    "\"\"\""
   ],
   "metadata": {
    "collapsed": false
   },
   "id": "c51741266de0cdad"
  },
  {
   "cell_type": "code",
   "execution_count": 31,
   "outputs": [],
   "source": [
    "def random_from_list(input_list):\n",
    "    random.seed(42)\n",
    "    random_num = random.choice(input_list)\n",
    "    return random_num"
   ],
   "metadata": {
    "collapsed": false,
    "ExecuteTime": {
     "end_time": "2023-09-25T13:52:11.459942Z",
     "start_time": "2023-09-25T13:52:11.363535Z"
    }
   },
   "id": "72b0c99ffa3612ba"
  },
  {
   "cell_type": "code",
   "execution_count": 32,
   "outputs": [
    {
     "data": {
      "text/plain": "2"
     },
     "execution_count": 32,
     "metadata": {},
     "output_type": "execute_result"
    }
   ],
   "source": [
    "random_from_list(mylist)"
   ],
   "metadata": {
    "collapsed": false,
    "ExecuteTime": {
     "end_time": "2023-09-25T13:52:12.561033Z",
     "start_time": "2023-09-25T13:52:12.316112Z"
    }
   },
   "id": "cdde72ad03063a33"
  },
  {
   "cell_type": "code",
   "execution_count": null,
   "outputs": [],
   "source": [
    "\"\"\"\n",
    "5., Készíts egy függvényt, ami visszaad egy n darab véletlen számot tartalmazó listát egy egész számokat tartalmazó bemenenti listából.\n",
    "    függvény neve: random_sublist_from_list\n",
    "    bemenet: input_list, number_of_elements\n",
    "    kimenetí típus: List\n",
    "\"\"\""
   ],
   "metadata": {
    "collapsed": false
   },
   "id": "3c3b117c6945d95e"
  },
  {
   "cell_type": "code",
   "execution_count": 33,
   "outputs": [],
   "source": [
    "def random_sublist_from_list(input_list, number_of_elements):\n",
    "    random.seed(42)\n",
    "    a = random.sample(input_list, number_of_elements)\n",
    "    return a"
   ],
   "metadata": {
    "collapsed": false,
    "ExecuteTime": {
     "end_time": "2023-09-25T13:52:21.488855Z",
     "start_time": "2023-09-25T13:52:21.383323Z"
    }
   },
   "id": "ceac8cab2318777a"
  },
  {
   "cell_type": "code",
   "execution_count": 34,
   "outputs": [
    {
     "data": {
      "text/plain": "[2, 1, 4]"
     },
     "execution_count": 34,
     "metadata": {},
     "output_type": "execute_result"
    }
   ],
   "source": [
    "random_sublist_from_list(mylist,3)"
   ],
   "metadata": {
    "collapsed": false,
    "ExecuteTime": {
     "end_time": "2023-09-25T13:52:22.345450Z",
     "start_time": "2023-09-25T13:52:22.263769Z"
    }
   },
   "id": "fe7a3b2e5edeb6da"
  },
  {
   "cell_type": "code",
   "execution_count": null,
   "outputs": [],
   "source": [
    "\"\"\"\n",
    "6., Készíts egy függvényt, ami visszaad egy véletlenül kiválasztott elemet egy string-ből.\n",
    "    függvény neve: random_from_string\n",
    "    bemenet: input_string\n",
    "    kimeneti típus: string\n",
    "\"\"\""
   ],
   "metadata": {
    "collapsed": false
   },
   "id": "ed010e62624fc66b"
  },
  {
   "cell_type": "code",
   "execution_count": 19,
   "outputs": [],
   "source": [
    "def random_from_string(input_string):\n",
    "    random_item = random.choice(input_string)\n",
    "    return random_item"
   ],
   "metadata": {
    "collapsed": false,
    "ExecuteTime": {
     "end_time": "2023-09-25T12:13:20.316748Z",
     "start_time": "2023-09-25T12:13:20.273490Z"
    }
   },
   "id": "b80d5b96ab74845f"
  },
  {
   "cell_type": "code",
   "execution_count": 20,
   "outputs": [
    {
     "data": {
      "text/plain": "'d'"
     },
     "execution_count": 20,
     "metadata": {},
     "output_type": "execute_result"
    }
   ],
   "source": [
    "random_from_list('belgltizud')"
   ],
   "metadata": {
    "collapsed": false,
    "ExecuteTime": {
     "end_time": "2023-09-25T12:13:21.074989Z",
     "start_time": "2023-09-25T12:13:20.838214Z"
    }
   },
   "id": "83a9b80d30f40573"
  },
  {
   "cell_type": "code",
   "execution_count": null,
   "outputs": [],
   "source": [
    "'''\n",
    "7., Készíts egy függvényt, amely visszaad egy 100 elemű, 0 és 1 közötti véletlen számokat tartalmazó listát\n",
    "    függvény név: hundred_small_random\n",
    "    bemenet: None\n",
    "    kimeneti típus: List\n",
    "'''"
   ],
   "metadata": {
    "collapsed": false
   },
   "id": "a18853a36629971e"
  },
  {
   "cell_type": "code",
   "execution_count": 6,
   "outputs": [],
   "source": [
    "def hundred_small_random():\n",
    "    new_list = []\n",
    "    for n in range(100):\n",
    "        new_list.append(random.random())\n",
    "    return new_list    "
   ],
   "metadata": {
    "collapsed": false,
    "ExecuteTime": {
     "end_time": "2023-09-25T12:22:36.459577Z",
     "start_time": "2023-09-25T12:22:36.171632Z"
    }
   },
   "id": "7dbab89507762f1c"
  },
  {
   "cell_type": "code",
   "execution_count": 7,
   "outputs": [
    {
     "data": {
      "text/plain": "[0.13057639073161031,\n 0.5903340086772524,\n 0.6296289040409757,\n 0.062269185097944546,\n 0.08617821256123315,\n 0.7831484899735864,\n 0.09704301911441104,\n 0.22115237077969419,\n 0.3775034622635659,\n 0.2808227544289994,\n 0.7439974980184295,\n 0.3127746707922934,\n 0.9523390893693293,\n 0.9201214645783713,\n 0.321558377309736,\n 0.6907984643741969,\n 0.1888641119975638,\n 0.10608032132583356,\n 0.9543707850435265,\n 0.9857329329776593,\n 0.8471874552179295,\n 0.26781343155582105,\n 0.0058411782427865155,\n 0.08192728248403658,\n 0.594441189385918,\n 0.7565805375428433,\n 0.553825845288931,\n 0.3002797620122205,\n 0.318482146804833,\n 0.5109874978227501,\n 0.2312981459867003,\n 0.4572850204312914,\n 0.9850122625796542,\n 0.6074774107367469,\n 0.36576849234242204,\n 0.42970745393828935,\n 0.18786167440641177,\n 0.48115061355480204,\n 0.3322262514880754,\n 0.9533337744368422,\n 0.3626446156140749,\n 0.7216254491416696,\n 0.9636239630739766,\n 0.8503705915201698,\n 0.24897749643052924,\n 0.9191376104737936,\n 0.28417430472353666,\n 0.1029855469656743,\n 0.7463296024532832,\n 0.046021259057639985,\n 0.43331725053172865,\n 0.5861573275502475,\n 0.5803658731978404,\n 0.1367368963447917,\n 0.07335596623735063,\n 0.13398218057108524,\n 0.0461864087244519,\n 0.961001422343093,\n 0.12582189369682506,\n 0.7854486723833228,\n 0.028249802018603387,\n 0.19125926011027072,\n 0.6432775279322951,\n 0.9329000992762636,\n 0.5229416261851444,\n 0.2497600234691415,\n 0.5147067431718121,\n 0.6212748230059952,\n 0.023054355875351762,\n 0.42904742513278704,\n 0.751118529414301,\n 0.6692655795130652,\n 0.9701209664132061,\n 0.1630127002085665,\n 0.03588790212019011,\n 0.7131181495531626,\n 0.6835147433053912,\n 0.8987453216870396,\n 0.4142884053595727,\n 0.35323511849437284,\n 0.25675599933214766,\n 0.9911292283133815,\n 0.4918670329939602,\n 0.9142058611838334,\n 0.1121475493893157,\n 0.023936289949847644,\n 0.9995897109235723,\n 0.09056553103404508,\n 0.4084952371591565,\n 0.2701695010081333,\n 0.9383861884246316,\n 0.31101865202112433,\n 0.5717380222999336,\n 0.26497668805860597,\n 0.5626995697282601,\n 0.2938760228234111,\n 0.2777853567070032,\n 0.39047189284394845,\n 0.8657238610188152,\n 0.09104590556049474]"
     },
     "execution_count": 7,
     "metadata": {},
     "output_type": "execute_result"
    }
   ],
   "source": [
    "hundred_small_random()"
   ],
   "metadata": {
    "collapsed": false,
    "ExecuteTime": {
     "end_time": "2023-09-25T12:22:38.093080Z",
     "start_time": "2023-09-25T12:22:37.363531Z"
    }
   },
   "id": "30d4ef80cc42dd81"
  },
  {
   "cell_type": "code",
   "execution_count": null,
   "outputs": [],
   "source": [
    "\"\"\"\n",
    "8., Készíts egy függvényt, amely visszaad egy 100 elemű, 10 és 1000 közötti véletlen számokat tartalmazó listát\n",
    "    függvény név: hundred_large_random\n",
    "    bemenet: None\n",
    "    kimeneti típus: List\n",
    "\"\"\""
   ],
   "metadata": {
    "collapsed": false
   },
   "id": "bc12cbcfce92f383"
  },
  {
   "cell_type": "code",
   "execution_count": 8,
   "outputs": [],
   "source": [
    "def hundred_large_random():\n",
    "    large_list = []\n",
    "    for n in range(100):\n",
    "        large_list.append(random.uniform(10,1000))\n",
    "    return large_list "
   ],
   "metadata": {
    "collapsed": false,
    "ExecuteTime": {
     "end_time": "2023-09-25T12:25:46.744684Z",
     "start_time": "2023-09-25T12:25:46.551995Z"
    }
   },
   "id": "586792b8f8ecd642"
  },
  {
   "cell_type": "code",
   "execution_count": 9,
   "outputs": [
    {
     "data": {
      "text/plain": "[610.8457521360016,\n 645.3162381999031,\n 856.8593530768791,\n 568.9098847926987,\n 832.4782190624825,\n 555.0846890564586,\n 702.1175994914133,\n 316.63717161175197,\n 342.2357842267204,\n 462.9445251199404,\n 951.8976651207794,\n 344.66860395983696,\n 661.9678238809624,\n 919.6185502388836,\n 157.48566571767,\n 965.3145179542164,\n 722.4592517952173,\n 419.3376870897695,\n 819.1745372045466,\n 151.80586149927058,\n 535.8390801141342,\n 414.25336969946414,\n 92.56297194176004,\n 352.4204097474549,\n 428.41876825944075,\n 942.5309301389833,\n 556.7501457563396,\n 714.5466564971972,\n 216.51858379797866,\n 261.25084678024956,\n 881.9006908565826,\n 527.8241951972001,\n 806.5384736802673,\n 259.36750741714815,\n 944.9100769704066,\n 384.8724715342681,\n 426.94881094794596,\n 431.67290420493384,\n 138.21071570479205,\n 826.2369278967118,\n 245.0811817955822,\n 890.0698581745797,\n 684.0440606045803,\n 919.021461832183,\n 282.52395262102624,\n 709.4989002758379,\n 748.2496915441008,\n 770.7949512278699,\n 105.41764264879077,\n 286.07000963049603,\n 403.010619329201,\n 681.6561261492675,\n 331.09850209858905,\n 770.119522981843,\n 594.2722348039705,\n 654.0891394417588,\n 869.084702657297,\n 230.44943778343054,\n 505.6482953445426,\n 585.5226144099678,\n 761.3480887833385,\n 768.8366869408412,\n 100.37223090666038,\n 819.7032080441331,\n 585.3103794544603,\n 245.72800479754127,\n 887.4519018815287,\n 927.9945574478625,\n 129.96132430268668,\n 943.421637490819,\n 471.31446704100915,\n 498.6697637640521,\n 988.2883393960598,\n 869.9583891365149,\n 262.94432516705876,\n 178.50539755112635,\n 544.0987055546508,\n 742.840866984896,\n 698.9452374776133,\n 178.88611262633415,\n 964.3337196455946,\n 937.8810982298065,\n 971.3457444283786,\n 906.492245196089,\n 181.82197607229105,\n 248.94442962575323,\n 624.2290995984486,\n 665.5918913040757,\n 666.5530436369726,\n 434.15423096711856,\n 540.3625896145403,\n 568.274644728501,\n 896.9405140385021,\n 770.6605728468445,\n 978.0585556212822,\n 941.9631684151636,\n 58.05810042379321,\n 251.71777860220652,\n 475.9804278720825,\n 495.2193636583835]"
     },
     "execution_count": 9,
     "metadata": {},
     "output_type": "execute_result"
    }
   ],
   "source": [
    "hundred_large_random()"
   ],
   "metadata": {
    "collapsed": false,
    "ExecuteTime": {
     "end_time": "2023-09-25T12:25:47.495217Z",
     "start_time": "2023-09-25T12:25:47.322004Z"
    }
   },
   "id": "fd4a6333ae377e15"
  },
  {
   "cell_type": "code",
   "execution_count": null,
   "outputs": [],
   "source": [
    "\"\"\"\n",
    "9., Készíts egy függvényt, amely visszaad 5 elemű, 9 és 1000 közötti, 3-al osztható egész számokat tartalmazó listát\n",
    "    függvény név: five_random_number_div_three\n",
    "    bemenet: None\n",
    "    kimeneti típus: List\n",
    "\n",
    "\"\"\""
   ],
   "metadata": {
    "collapsed": false
   },
   "id": "ce1496d7f237ab67"
  },
  {
   "cell_type": "code",
   "execution_count": 35,
   "outputs": [],
   "source": [
    "def five_random_number_div_three():\n",
    "    random.seed(42)\n",
    "    div_list= []\n",
    "    for n in range(5):\n",
    "        random_num = random.randint(9,1000)\n",
    "        while random_num % 3 != 0:\n",
    "            random_num = random.randint(9,1000)\n",
    "        div_list.append(random_num)\n",
    "    return div_list       "
   ],
   "metadata": {
    "collapsed": false,
    "ExecuteTime": {
     "end_time": "2023-09-25T13:54:30.676480Z",
     "start_time": "2023-09-25T13:54:30.576977Z"
    }
   },
   "id": "c9e3d1b8fe71de27"
  },
  {
   "cell_type": "code",
   "execution_count": 36,
   "outputs": [
    {
     "data": {
      "text/plain": "[663, 123, 768, 237, 567]"
     },
     "execution_count": 36,
     "metadata": {},
     "output_type": "execute_result"
    }
   ],
   "source": [
    "five_random_number_div_three()"
   ],
   "metadata": {
    "collapsed": false,
    "ExecuteTime": {
     "end_time": "2023-09-25T13:54:31.759396Z",
     "start_time": "2023-09-25T13:54:31.389094Z"
    }
   },
   "id": "7f9d89c8ddc6ce59"
  },
  {
   "cell_type": "code",
   "execution_count": null,
   "outputs": [],
   "source": [
    "\"\"\"\n",
    "10., Készíts egy függvényt amely a bemeneti lista elemeit véletlenszerűen összekeveri\n",
    "    függvény név: random_reorder\n",
    "    bemenet: input_list\n",
    "    kimeneti típus: List\n",
    "\"\"\""
   ],
   "metadata": {
    "collapsed": false
   },
   "id": "6ad21e9a5d93bbfb"
  },
  {
   "cell_type": "code",
   "execution_count": 38,
   "outputs": [],
   "source": [
    "def random_reorder(input_list):\n",
    "    random.seed(42)\n",
    "    random.shuffle(input_list)\n",
    "    return input_list"
   ],
   "metadata": {
    "collapsed": false,
    "ExecuteTime": {
     "end_time": "2023-09-25T13:55:31.409921Z",
     "start_time": "2023-09-25T13:55:31.171403Z"
    }
   },
   "id": "6f0329d3744fca49"
  },
  {
   "cell_type": "code",
   "execution_count": 39,
   "outputs": [
    {
     "data": {
      "text/plain": "[7, 3, 3, 8, 5, 6, 9, 4, 1, 2]"
     },
     "execution_count": 39,
     "metadata": {},
     "output_type": "execute_result"
    }
   ],
   "source": [
    "random_reorder(mylist)"
   ],
   "metadata": {
    "collapsed": false,
    "ExecuteTime": {
     "end_time": "2023-09-25T13:55:32.223410Z",
     "start_time": "2023-09-25T13:55:31.781995Z"
    }
   },
   "id": "af6e3bdb8199d9f2"
  },
  {
   "cell_type": "code",
   "execution_count": null,
   "outputs": [],
   "source": [
    "\"\"\"\n",
    "11., Készíts egy függvényt, amely 1 és 5 közötti egyenletes eloszlású valós véletlen számot ad vissza minden meghívás esetén.\n",
    "    függvény név: uniform_one_to_five\n",
    "    bemenet: None\n",
    "    kimeneti típus: float\n",
    "\"\"\""
   ],
   "metadata": {
    "collapsed": false
   },
   "id": "b346c5d2a2c56fb4"
  },
  {
   "cell_type": "code",
   "execution_count": 40,
   "outputs": [],
   "source": [
    "def uniform_one_to_five():\n",
    "    num = random.uniform(1,5)\n",
    "    return num"
   ],
   "metadata": {
    "collapsed": false,
    "ExecuteTime": {
     "end_time": "2023-09-25T14:10:22.637409Z",
     "start_time": "2023-09-25T14:10:21.567025Z"
    }
   },
   "id": "67c7bbf849747c09"
  },
  {
   "cell_type": "code",
   "execution_count": 41,
   "outputs": [
    {
     "data": {
      "text/plain": "3.557707193831535"
     },
     "execution_count": 41,
     "metadata": {},
     "output_type": "execute_result"
    }
   ],
   "source": [
    "uniform_one_to_five()"
   ],
   "metadata": {
    "collapsed": false,
    "ExecuteTime": {
     "end_time": "2023-09-25T14:10:24.048202Z",
     "start_time": "2023-09-25T14:10:23.707225Z"
    }
   },
   "id": "fb8a56105b94f9ce"
  },
  {
   "cell_type": "markdown",
   "source": [
    "### Az eloszlásokkal kapcsolatos feladatok megoldását mentse src/utils modul-ba a distributions.py nevű fájlba"
   ],
   "metadata": {
    "collapsed": false
   },
   "id": "e1a6639d7cd229b"
  },
  {
   "cell_type": "markdown",
   "source": [
    "#### II. Eloszlások"
   ],
   "metadata": {
    "collapsed": false
   },
   "id": "5591376fe0ff73b3"
  },
  {
   "cell_type": "code",
   "execution_count": null,
   "outputs": [],
   "source": [
    "\"\"\"\n",
    "1., Hozz létre egy új osztályt, aminek a neve FirstClass\n",
    "    osztály név: FirstClass\n",
    "\"\"\""
   ],
   "metadata": {
    "collapsed": false
   },
   "id": "664df0ef9ac68a9f"
  },
  {
   "cell_type": "code",
   "execution_count": 47,
   "outputs": [],
   "source": [
    "class FirstClass:\n",
    "    pass\n",
    "    "
   ],
   "metadata": {
    "collapsed": false,
    "ExecuteTime": {
     "end_time": "2023-09-25T15:01:58.211089Z",
     "start_time": "2023-09-25T15:01:57.640742Z"
    }
   },
   "id": "6ba402a8cb789e1"
  },
  {
   "cell_type": "code",
   "execution_count": null,
   "outputs": [],
   "source": [
    "\"\"\"\n",
    "2., Hozz létre egy új osztályt, aminek a neve SecondClass, és definiáljon benne egy __init__ nevű függvényt, amely bead egy véletlenszám generátort a self.random adattagnak.\n",
    "    Osztály név: SecondClass\n",
    "    függvény név: __init__\n",
    "    bemenet: self, rand\n",
    "\"\"\""
   ],
   "metadata": {
    "collapsed": false
   },
   "id": "e34dccb1f71b37cd"
  },
  {
   "cell_type": "code",
   "execution_count": 43,
   "outputs": [],
   "source": [
    "class SecondClass:\n",
    "    def __init__(self, rand):\n",
    "        self.rand = random.random()"
   ],
   "metadata": {
    "collapsed": false,
    "ExecuteTime": {
     "end_time": "2023-09-25T14:18:42.452838Z",
     "start_time": "2023-09-25T14:18:42.375449Z"
    }
   },
   "id": "3ee80f24a29d2303"
  },
  {
   "cell_type": "code",
   "execution_count": 46,
   "outputs": [
    {
     "name": "stdout",
     "output_type": "stream",
     "text": [
      "0.025010755222666936\n"
     ]
    }
   ],
   "source": [
    "p1 = SecondClass(1)\n",
    "print(p1.rand)"
   ],
   "metadata": {
    "collapsed": false,
    "ExecuteTime": {
     "end_time": "2023-09-25T14:19:17.613565Z",
     "start_time": "2023-09-25T14:19:16.986170Z"
    }
   },
   "id": "56451accf00c5828"
  },
  {
   "cell_type": "code",
   "execution_count": null,
   "outputs": [],
   "source": [
    "\"\"\"\n",
    "3., Hozzan létre egy új osztályt aminek a neve UniformDistribution. Definiáljon benne a __init__ nevű függvényt, amelynek bemenetként kap egy véletlenszám generátort, és az eloszlás alsó (a) és felső határát (b), amely értékeket adattagokba ment le.\n",
    "    Osztály név: UniformDistribution\n",
    "    függvény név: __init__\n",
    "    bemenet: self, rand, a, b\n",
    "\"\"\"\n",
    "\"\"\"\n",
    "4., Egészítse ki a UniformDistribution osztályt egy új függvénnyel, amely a és b pont közötti értékekhez a hozzájuk tartozó egyenletes eloszlás, eloszlás függvényében hozzárendelt értékét rendeli.\n",
    "    függvény név: pdf\n",
    "    bemenet: x\n",
    "    kimeneti típus: float\n",
    "    link: https://en.wikipedia.org/wiki/Continuous_uniform_distribution\n",
    "\"\"\"\n",
    "\"\"\"\n",
    "5., Egészítse ki a UniformDistribution osztályt egy új függvénnyel, amely megvalósítja az egyenletes eloszlás kumulatív eloszlás függvényét.\n",
    "    függvény név: cdf\n",
    "    bemenet: x\n",
    "    kimeneti típus: float\n",
    "    link: https://en.wikipedia.org/wiki/Continuous_uniform_distribution\n",
    "\"\"\"\n",
    "\"\"\"\n",
    "6., Egészítse ki a UniformDistribution osztályt egy új függvénnyel, amely implementálja az egyenletes eloszlás inverz kumulatív eloszlás függvényét. (percent-point function)\n",
    "    függvény név: ppf\n",
    "    bemenet: p\n",
    "    kimeneti típus: float\n",
    "    link: https://en.wikipedia.org/wiki/Continuous_uniform_distribution\n",
    "\"\"\"\n",
    "\"\"\"\n",
    "7., Egészítse ki a UniformDistribution osztályt egy új függvénnyel, amely az osztály létrehozásánál megadott paraméterek mellett, egyenletes eloszlású véletlen számokat generál minden meghívásnál.\n",
    "    függvény név: gen_random\n",
    "    bemenet: None\n",
    "    kimeneti típus: float\n",
    "    link: https://en.wikipedia.org/wiki/Continuous_uniform_distribution\n",
    "\n",
    "\"\"\"\n",
    "\"\"\"\n",
    "8., Egészítse ki a UniformDistribution osztályt egy új függvénnyel, amely visszaadja az eloszlás függvény átlagát.  Ha az eloszlásnak nincsen ilyen értéke, akkor return helyett hívja meg a raise Exception(\"Moment undefined\") parancsot.\n",
    "    függvény név: mean\n",
    "    bemenet: None\n",
    "    kimeneti típus: float\n",
    "    link: https://en.wikipedia.org/wiki/Continuous_uniform_distribution\n",
    "\"\"\"\n",
    "\"\"\"\n",
    "9., Egészítse ki a UniformDistribution osztályt egy új függvénnyel, amely visszaadja az eloszlás függvény mediánját.\n",
    "    függvény név: median\n",
    "    bemenet: None\n",
    "    kimeneti típus: float\n",
    "    link: https://en.wikipedia.org/wiki/Continuous_uniform_distribution\n",
    "\"\"\"\n",
    "\"\"\"\n",
    "10., Egészítse ki a UniformDistribution osztályt egy új függvénnyel, amely visszaadja az eloszlás függvény varianciáját.  Ha az eloszlásnak nincsen ilyen értéke, akkor return helyett hívja meg a raise Exception(\"Moment undefined\") parancsot.\n",
    "    függvény név: variance\n",
    "    bemenet: None\n",
    "    kimeneti típus: float\n",
    "    link: https://en.wikipedia.org/wiki/Continuous_uniform_distribution\n",
    "\"\"\"\n",
    "\"\"\"\n",
    "11., Egészítse ki a UniformDistribution osztályt egy új függvénnyel, amely visszaadja az eloszlás függvény ferdeségét.  Ha az eloszlásnak nincsen ilyen értéke, akkor return helyett hívja meg a raise Exception(\"Moment undefined\") parancsot.\n",
    "    függvény név: skewness\n",
    "    bemenet: None\n",
    "    kimeneti típus: float\n",
    "    link: https://en.wikipedia.org/wiki/Continuous_uniform_distribution\n",
    "\"\"\"\n",
    "\"\"\"\n",
    "12., Egészítse ki a UniformDistribution osztályt egy új függvénnyel, amely visszaadja az eloszlás függvény többlet csúcsosságát.  Ha az eloszlásnak nincsen ilyen értéke, akkor return helyett hívja meg a raise Exception(\"Moment undefined\") parancsot.\n",
    "    függvény név: ex_kurtosis\n",
    "    bemenet: None\n",
    "    kimeneti típus: float\n",
    "    link: https://en.wikipedia.org/wiki/Continuous_uniform_distribution\n",
    "\"\"\"\n",
    "\"\"\"\n",
    "13., Egészítse ki a UniformDistribution osztályt egy új függvénnyel, amely visszaadja az eloszlás függvény első 3 cetrális momentumát és a többlet csúcsosságot.  Ha az eloszlásnak nincsenek ilyen értékei, akkor return helyett hívja meg a raise Exception(\"Moments undefined\") parancsot.\n",
    "    függvény név: mvsk\n",
    "    bemenet: None\n",
    "    kimeneti típus: List\n",
    "    link: https://en.wikipedia.org/wiki/Continuous_uniform_distribution\n",
    "\"\"\""
   ],
   "metadata": {
    "collapsed": false
   },
   "id": "16a24cd8bbf27601"
  },
  {
   "cell_type": "code",
   "execution_count": 49,
   "outputs": [],
   "source": [
    "class UniformDistribution:\n",
    "    def __init__(self, rand, a, b):\n",
    "        self.rand= rand\n",
    "        self.a = a\n",
    "        self.b = b\n",
    "        \n",
    "    def pdf(self, x):\n",
    "        if self.a <= x <= self.b:\n",
    "            pdf_num = 1/(self.b - self.a)\n",
    "        return pdf_num  \n",
    "    \n",
    "    def cdf(self, x):\n",
    "        if x < self.a:\n",
    "            cdf_num = 0\n",
    "        elif self.a <= x <= self.b:\n",
    "            cdf_num = (x-self.a)/(self.b-self.a)\n",
    "        elif self.b < x:\n",
    "            cdf_num = 1\n",
    "        return cdf_num\n",
    "    \n",
    "    def ppf(self, p):\n",
    "        inv_num = math.sqrt((1/12 * (self.b - self.a) ** 2)) * math.sqrt(3) * (2 * self.p - 1) + 1/2 * (self.a + self.b)\n",
    "        return inv_num\n",
    "    \n",
    "    def gen_random(self):\n",
    "        rand_num = random.uniform(self.a, self.b)\n",
    "        return rand_num\n",
    "            \n",
    "    def mean(self):\n",
    "        mean_num = 1/2 * (self.a + self.b)\n",
    "        return mean_num\n",
    "    \n",
    "    def median(self):\n",
    "        med_num = 1/2 * (self.a + self.b)\n",
    "        return med_num\n",
    "    \n",
    "    def variance(self):\n",
    "        var_num = 1/12 * (self.b - self.a) ** 2\n",
    "        return var_num\n",
    "    \n",
    "    def skewness(self):\n",
    "        return 0\n",
    "    \n",
    "    def ex_kurtosis(self):\n",
    "        kurt_num = -6/5\n",
    "        return kurt_num\n",
    "    \n",
    "    def mvsk(self):\n",
    "        moment_list = []\n",
    "        mean_num = 1/2 * (self.a + self.b)\n",
    "        kurt_num = -6/5\n",
    "        mom2 = 1/12 * (self.b - self.a) \n",
    "        mom3 = 0\n",
    "        moment_list.append(mean_num)\n",
    "        moment_list.append(kurt_num)\n",
    "        moment_list.append(mom2)\n",
    "        moment_list.append(mom3)\n",
    "                           \n",
    "        return moment_list\n",
    "        "
   ],
   "metadata": {
    "collapsed": false,
    "ExecuteTime": {
     "end_time": "2023-09-27T09:22:40.480559Z",
     "start_time": "2023-09-27T09:22:40.368939Z"
    }
   },
   "id": "bd08e6c93ec9bf3a"
  },
  {
   "cell_type": "code",
   "execution_count": 56,
   "outputs": [
    {
     "name": "stdout",
     "output_type": "stream",
     "text": [
      "<__main__.UniformDistribution object at 0x10e50dd00>\n"
     ]
    }
   ],
   "source": [
    "p2 = UniformDistribution(0,2,6)\n",
    "print(p2)"
   ],
   "metadata": {
    "collapsed": false,
    "ExecuteTime": {
     "end_time": "2023-09-27T11:24:32.550264Z",
     "start_time": "2023-09-27T11:24:32.395649Z"
    }
   },
   "id": "316f42ca481d150b"
  },
  {
   "cell_type": "code",
   "execution_count": null,
   "outputs": [],
   "source": [
    "\"\"\"\n",
    "14., Hozzan létre egy új osztályt aminek a neve NormalDistribution. Definiáljon benne a __init__ nevű függvényt, amelynek bemenetként kap egy véletlenszám generátort, és az eloszlás várható értékét (location) és varianciáját (scale), amely értékeket adattagokba ment le.\n",
    "    Osztály név: NormalDistribution\n",
    "    függvény név: __init__\n",
    "    bemenet: self, rand, loc, scale\n",
    "\"\"\"\n",
    "\"\"\"\n",
    "15., Egészítse ki a NormalDistribution osztályt egy új függvénnyel, amely loc várható értékű és scale varianciájú normális eloszlás eloszlásfüggvényéből rendel valószínűségi értéket a bemeneti x valós számhoz.\n",
    "    függvény név: pdf\n",
    "    bemenet: x\n",
    "    kimeneti típus: float\n",
    "    link: https://en.wikipedia.org/wiki/Normal_distribution\n",
    "\"\"\"\n",
    "\"\"\"\n",
    "16., Egészítse ki a NormalDistribution osztályt egy új függvénnyel, amely megvalósítja az eloszlás kumulatív eloszlás függvényét.\n",
    "    függvény név: cdf\n",
    "    bemenet: x\n",
    "    kimeneti típus: float\n",
    "    link: https://en.wikipedia.org/wiki/Normal_distribution\n",
    "\"\"\"\n",
    "\"\"\"\n",
    "17., Egészítse ki a NormalDistribution osztályt egy új függvénnyel, amely implementálja az eloszlás inverz kumulatív eloszlás függvényét\n",
    "    függvény név: ppf\n",
    "    bemenet: p\n",
    "    kimeneti típus: float\n",
    "    link: https://en.wikipedia.org/wiki/Normal_distribution\n",
    "\"\"\"\n",
    "\"\"\"\n",
    "18., Egészítse ki a NormalDistribution osztályt egy új függvénnyel, amely az osztály létrehozásánál megadott paraméterek mellett, normális eloszlású véletlen számokat generál minden meghívásnál\n",
    "    függvény név: gen_random\n",
    "    bemenet: None\n",
    "    kimeneti típus: float\n",
    "    link: https://en.wikipedia.org/wiki/Normal_distribution\n",
    "\n",
    "\"\"\"\n",
    "\"\"\"\n",
    "19., Egészítse ki a NormalDistribution osztályt egy új függvénnyel, amely visszaadja az eloszlás függvény átlagát.  Ha az eloszlásnak nincsen ilyen értéke, akkor return helyett hívja meg a raise Exception(\"Moment undefined\") parancsot.\n",
    "    függvény név: mean\n",
    "    bemenet: None\n",
    "    kimeneti típus: float\n",
    "    link: https://en.wikipedia.org/wiki/Normal_distribution\n",
    "\"\"\"\n",
    "\"\"\"\n",
    "20., Egészítse ki a NormalDistribution osztályt egy új függvénnyel, amely visszaadja az eloszlás függvény mediánját\n",
    "    függvény név: median\n",
    "    bemenet: None\n",
    "    kimeneti típus: float\n",
    "    link: https://en.wikipedia.org/wiki/Normal_distribution\n",
    "\"\"\"\n",
    "\"\"\"\n",
    "21., Egészítse ki a NormalDistribution osztályt egy új függvénnyel, amely visszaadja az eloszlás függvény varianciáját.  Ha az eloszlásnak nincsen ilyen értéke, akkor return helyett hívja meg a raise Exception(\"Moment undefined\") parancsot.\n",
    "    függvény név: variance\n",
    "    bemenet: None\n",
    "    kimeneti típus: float\n",
    "    link: https://en.wikipedia.org/wiki/Normal_distribution\n",
    "\"\"\"\n",
    "\"\"\"\n",
    "22., Egészítse ki a NormalDistribution osztályt egy új függvénnyel, amely visszaadja az eloszlás függvény ferdeségét.  Ha az eloszlásnak nincsen ilyen értéke, akkor return helyett hívja meg a raise Exception(\"Moment undefined\") parancsot.\n",
    "    függvény név: skewness\n",
    "    bemenet: None\n",
    "    kimeneti típus: float\n",
    "    link: https://en.wikipedia.org/wiki/Normal_distribution\n",
    "\"\"\"\n",
    "\n",
    "\"\"\"\n",
    "23., Egészítse ki a NormalDistribution osztályt egy új függvénnyel, amely visszaadja az eloszlás függvény többlet csúcsosságát.  Ha az eloszlásnak nincsen ilyen értéke, akkor return helyett hívja meg a raise Exception(\"Moment undefined\") parancsot.\n",
    "    függvény név: ex_kurtosis\n",
    "    bemenet: None\n",
    "    kimeneti típus: float\n",
    "    link: https://en.wikipedia.org/wiki/Normal_distribution\n",
    "\"\"\"\n",
    "\n",
    "\"\"\"\n",
    "24., Egészítse ki a NormalDistribution osztályt egy új függvénnyel, amely visszaadja az eloszlás függvény első 3 cetrális momentumát és a többlet csúcsosságot.  Ha az eloszlásnak nincsenek ilyen értékei, akkor return helyett hívja meg a raise Exception(\"Moment undefined\") parancsot.\n",
    "    függvény név: mvsk\n",
    "    bemenet: None\n",
    "    kimeneti típus: List\n",
    "    link: https://en.wikipedia.org/wiki/Normal_distribution\n",
    "\"\"\""
   ],
   "metadata": {
    "collapsed": false
   },
   "id": "982e36a2889ff566"
  },
  {
   "cell_type": "code",
   "execution_count": null,
   "outputs": [],
   "source": [
    "class NormalDistribution:\n",
    "    def __init__(self, rand, loc, scale):\n",
    "        self.rand= rand\n",
    "        self.loc = loc\n",
    "        self.scale = scale\n",
    "        \n",
    "    def pdf(self, x):\n",
    "        coefficient = 1 / (math.sqrt(self.scale) * math.sqrt(2 * math.pi))\n",
    "        exponent = -0.5 * ((x - self.loc) / math.sqrt(self.scale)) ** 2\n",
    "        pdf_num2 = coefficient * math.exp(exponent)\n",
    "        return pdf_num2  \n",
    "    \n",
    "    def cdf(self, x):\n",
    "        erf_num = (x - self.loc)/(math.sqrt(self.scale) * math.sqrt(2))\n",
    "        cdf_num2 = 1/2 * (1 + pyerf.erf(erf_num))\n",
    "        return cdf_num2\n",
    "    \n",
    "    def ppf(self, p):\n",
    "        inv_num2 = self.loc + math.sqrt(self.scale) * math.sqrt(2) * (pyerf.erf((2 * p -1)) ** -1)\n",
    "        return inv_num2\n",
    "    \n",
    "    def gen_random(self):\n",
    "        u1 = random.uniform(0, 1)\n",
    "        u2 = random.uniform(0, 1)\n",
    "        z0 = math.sqrt(-2 * math.log(u1)) * math.cos(2 * math.pi * u2)\n",
    "        return z0\n",
    "            \n",
    "    def mean(self):\n",
    "        mean_num2 = self.loc\n",
    "        return mean_num2\n",
    "    \n",
    "    def median(self):\n",
    "        med_num2 = self.loc\n",
    "        return med_num2\n",
    "    \n",
    "    def variance(self):\n",
    "        var_num2 = self.scale\n",
    "        return var_num2\n",
    "    \n",
    "    def skewness(self):\n",
    "        return 0\n",
    "    \n",
    "    def ex_kurtosis(self):\n",
    "        kurt_num2 = 0\n",
    "        return kurt_num2\n",
    "    \n",
    "    def mvsk(self):\n",
    "        moment_list = []\n",
    "        mean_num2 = self.loc\n",
    "        kurt_num2 = 0\n",
    "        mom22 = self.scale\n",
    "        mom32 = 0\n",
    "        moment_list.append(mean_num2)\n",
    "        moment_list.append(kurt_num2)\n",
    "        moment_list.append(mom22)\n",
    "        moment_list.append(mom32)\n",
    "                           \n",
    "        return moment_list\n",
    "        "
   ],
   "metadata": {
    "collapsed": false
   },
   "id": "458acbe6ee93cd47"
  },
  {
   "cell_type": "code",
   "execution_count": null,
   "outputs": [],
   "source": [],
   "metadata": {
    "collapsed": false
   },
   "id": "33b2b698ad872fee"
  },
  {
   "cell_type": "code",
   "execution_count": null,
   "outputs": [],
   "source": [
    "\"\"\"\n",
    "25., Hozzan létre egy új osztályt aminek a neve CauchyDistribution. Definiáljon benne a __init__ nevű függvényt, amelynek bemenetként kap egy véletlenszám generátort, az x0 (location) és gamma (scale) értékeket, amelyeket adattagokba ment le.\n",
    "    Osztály név: CauchyDistribution\n",
    "    függvény név: __init__\n",
    "    bemenet: self, rand, loc, scale\n",
    "\"\"\"\n",
    "\n",
    "\"\"\"\n",
    "26., Egészítse ki a CauchyDistribution osztályt egy új függvénnyel, amely a bemeneti x értékhez hozzárendeli annak valószínűségi értékét\n",
    "    függvény név: pdf\n",
    "    bemenet: x\n",
    "    kimeneti típus: float\n",
    "    link: https://en.wikipedia.org/wiki/Cauchy_distribution\n",
    "\"\"\"\n",
    "\n",
    "\"\"\"\n",
    "27., Egészítse ki a CauchyDistribution osztályt egy új függvénnyel, amely megvalósítja az eloszlás kumulatív eloszlás függvényét.\n",
    "    függvény név: cdf\n",
    "    bemenet: x\n",
    "    kimeneti típus: float\n",
    "    link: https://en.wikipedia.org/wiki/Cauchy_distribution\n",
    "\"\"\"\n",
    "\n",
    "\"\"\"\n",
    "28., Egészítse ki a CauchyDistribution osztályt egy új függvénnyel, amely implementálja az eloszlás inverz kumulatív eloszlás függvényét\n",
    "    függvény név: ppf\n",
    "    bemenet: p\n",
    "    kimeneti típus: float\n",
    "    link: https://en.wikipedia.org/wiki/Cauchy_distribution\n",
    "\"\"\"\n",
    "\n",
    "\"\"\"\n",
    "29., Egészítse ki a CauchyDistribution osztályt egy új függvénnyel, amely az osztály létrehozásánál megadott paraméterek mellett, cauchy eloszlású véletlen számokat generál minden meghívásnál\n",
    "    függvény név: gen_random\n",
    "    bemenet: None\n",
    "    kimeneti típus: float\n",
    "    link: https://en.wikipedia.org/wiki/Cauchy_distribution\n",
    "\"\"\"\n",
    "\n",
    "\"\"\"\n",
    "30., Egészítse ki a CauchyDistribution osztályt egy új függvénnyel, amely visszaadja az eloszlás függvény átlagát. Ha az eloszlásnak nincsen ilyen értéke, akkor return helyett hívja meg a raise Exception(\"Moment undefined\") parancsot.\n",
    "    függvény név: mean\n",
    "    bemenet: None\n",
    "    kimeneti típus: float\n",
    "    link: https://en.wikipedia.org/wiki/Cauchy_distribution\n",
    "\"\"\"\n",
    "\n",
    "\"\"\"\n",
    "31., Egészítse ki a CauchyDistribution osztályt egy új függvénnyel, amely visszaadja az eloszlás függvény mediánját.\n",
    "    függvény név: median\n",
    "    bemenet: None\n",
    "    kimeneti típus: float\n",
    "    link: https://en.wikipedia.org/wiki/Cauchy_distribution\n",
    "\"\"\"\n",
    "\n",
    "\"\"\"\n",
    "32., Egészítse ki a CauchyDistribution osztályt egy új függvénnyel, amely visszaadja az eloszlás függvény varianciáját.  Ha az eloszlásnak nincsen ilyen értéke, akkor return helyett hívja meg a raise Exception(\"Moment undefined\") parancsot.\n",
    "    függvény név: variance\n",
    "    bemenet: None\n",
    "    kimeneti típus: float\n",
    "    link: https://en.wikipedia.org/wiki/Cauchy_distribution\n",
    "\"\"\"\n",
    "\n",
    "\"\"\"\n",
    "33., Egészítse ki a CauchyDistribution osztályt egy új függvénnyel, amely visszaadja az eloszlás függvény ferdeségét.  Ha az eloszlásnak nincsen ilyen értéke, akkor return helyett hívja meg a raise Exception(\"Moment undefined\") parancsot.\n",
    "    függvény név: skewness\n",
    "    bemenet: None\n",
    "    kimeneti típus: float\n",
    "    link: https://en.wikipedia.org/wiki/Cauchy_distribution\n",
    "\"\"\"\n",
    "\n",
    "\"\"\"\n",
    "34., Egészítse ki a CauchyDistribution osztályt egy új függvénnyel, amely visszaadja az eloszlás függvény többlet csúcsosságát.  Ha az eloszlásnak nincsen ilyen értéke, akkor return helyett hívja meg a raise Exception(\"Moment undefined\") parancsot.\n",
    "    függvény név: ex_kurtosis\n",
    "    bemenet: None\n",
    "    kimeneti típus: float\n",
    "    link: https://en.wikipedia.org/wiki/Cauchy_distribution\n",
    "\"\"\"\n",
    "\n",
    "\"\"\"\n",
    "35., Egészítse ki a CauchyDistribution osztályt egy új függvénnyel, amely visszaadja az eloszlás függvény első 3 cetrális momentumát és a többlet csúcsosságot.  Ha az eloszlásnak nincsenek ilyen értékei, akkor return helyett hívja meg a raise Exception(\"Moments undefined\") parancsot.\n",
    "    függvény név: mvsk\n",
    "    bemenet: None\n",
    "    kimeneti típus: List\n",
    "    link: https://en.wikipedia.org/wiki/Cauchy_distribution\n",
    "\"\"\""
   ],
   "metadata": {
    "collapsed": false
   },
   "id": "4cf53dd0ca6be7bf"
  },
  {
   "cell_type": "code",
   "execution_count": null,
   "outputs": [],
   "source": [
    "class CauchyDistribution:\n",
    "    def __init__(self, rand, loc, scale):\n",
    "        self.rand= rand\n",
    "        self.loc = loc\n",
    "        self.scale = scale\n",
    "        \n",
    "    def pdf(self, x):\n",
    "        pdf_num3 = 1/(math.pi * self.scale * (1 + ((x - self.loc)/ self.scale) ** 2))\n",
    "        return pdf_num3 \n",
    "    \n",
    "    def cdf(self, x):\n",
    "        cdf_num3 = 1/math.pi * math.atan((x - self.loc)/self.scale) + 1/2\n",
    "        return cdf_num3\n",
    "    \n",
    "    def ppf(self, p):\n",
    "        inv_num3 = self.loc + self.scale * math.tan(math.pi * (p - 1/2))\n",
    "        return inv_num3\n",
    "    \n",
    "    def gen_random(self):\n",
    "        p_value = random.random()\n",
    "        rand_num3 = self.loc + self.scale * math.tan(math.pi * (p_value - 1/2))\n",
    "        return rand_num3\n",
    "            \n",
    "    def mean(self):\n",
    "        raise Exception(\"Moments undefined\")\n",
    "    \n",
    "    def median(self):\n",
    "        med_num3 = self.loc\n",
    "        return med_num3\n",
    "    \n",
    "    def variance(self):\n",
    "        raise Exception(\"Moments undefined\")\n",
    "    \n",
    "    def skewness(self):\n",
    "        raise Exception(\"Moments undefined\")\n",
    "    \n",
    "    def ex_kurtosis(self):\n",
    "        raise Exception(\"Moments undefined\")\n",
    "    \n",
    "    def mvsk(self):\n",
    "       raise Exception(\"Moments undefined\")\n",
    "        "
   ],
   "metadata": {
    "collapsed": false
   },
   "id": "e945447dfe21a612"
  },
  {
   "cell_type": "code",
   "execution_count": null,
   "outputs": [],
   "source": [],
   "metadata": {
    "collapsed": false
   },
   "id": "435dfed4191c324"
  }
 ],
 "metadata": {
  "kernelspec": {
   "display_name": "Python 3",
   "language": "python",
   "name": "python3"
  },
  "language_info": {
   "codemirror_mode": {
    "name": "ipython",
    "version": 2
   },
   "file_extension": ".py",
   "mimetype": "text/x-python",
   "name": "python",
   "nbconvert_exporter": "python",
   "pygments_lexer": "ipython2",
   "version": "2.7.6"
  }
 },
 "nbformat": 4,
 "nbformat_minor": 5
}
