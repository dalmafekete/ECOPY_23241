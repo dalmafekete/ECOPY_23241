{
 "cells": [
  {
   "cell_type": "markdown",
   "id": "de9d9737616514b8",
   "metadata": {
    "collapsed": false
   },
   "source": [
    "Az osztály(oka)t mentsd a __src/linear_regression__ modul __LinearRegressions.py__ fájljába\n",
    "Használható modulok: _pathlib, pandas, typing, str, numpy_, valamint a _scipy.stats t_ és _f_ osztályai"
   ]
  },
  {
   "cell_type": "code",
   "execution_count": 1,
   "outputs": [],
   "source": [
    "%load_ext autoreload\n",
    "%autoreload 2"
   ],
   "metadata": {
    "collapsed": false,
    "ExecuteTime": {
     "end_time": "2023-11-08T18:20:37.337724Z",
     "start_time": "2023-11-08T18:20:37.265351Z"
    }
   },
   "id": "7066ec7a2294843b"
  },
  {
   "cell_type": "code",
   "execution_count": 2,
   "id": "dfea6e648868022e",
   "metadata": {
    "collapsed": false,
    "ExecuteTime": {
     "end_time": "2023-11-08T18:20:59.456255Z",
     "start_time": "2023-11-08T18:20:59.401092Z"
    }
   },
   "outputs": [],
   "source": [
    "from pathlib import Path\n"
   ]
  },
  {
   "cell_type": "code",
   "execution_count": 13,
   "outputs": [],
   "source": [
    "import pandas as pd\n",
    "import numpy as np\n",
    "from scipy.stats import t\n",
    "from scipy.stats import f"
   ],
   "metadata": {
    "collapsed": false,
    "ExecuteTime": {
     "end_time": "2023-11-08T19:07:58.669262Z",
     "start_time": "2023-11-08T19:07:58.545874Z"
    }
   },
   "id": "6163abcd9f7ac83a"
  },
  {
   "cell_type": "code",
   "execution_count": null,
   "outputs": [],
   "source": [
    "datalib = Path.cwd().parent.joinpath('data')"
   ],
   "metadata": {
    "collapsed": false
   },
   "id": "b0b5dd4685315eda"
  },
  {
   "cell_type": "code",
   "execution_count": 4,
   "outputs": [],
   "source": [
    "sp500 = pd.read_parquet('/Users/feketedalma/Documents/GitHub/ECOPY_23241/data/sp500.parquet', engine = 'fastparquet')"
   ],
   "metadata": {
    "collapsed": false,
    "ExecuteTime": {
     "end_time": "2023-11-08T18:22:06.330274Z",
     "start_time": "2023-11-08T18:22:06.050807Z"
    }
   },
   "id": "8bf1727b8f0714fd"
  },
  {
   "cell_type": "code",
   "execution_count": 5,
   "outputs": [],
   "source": [
    "factors = pd.read_parquet('/Users/feketedalma/Documents/GitHub/ECOPY_23241/data/ff_factors.parquet', engine = 'fastparquet')"
   ],
   "metadata": {
    "collapsed": false,
    "ExecuteTime": {
     "end_time": "2023-11-08T18:22:27.837043Z",
     "start_time": "2023-11-08T18:22:27.756413Z"
    }
   },
   "id": "cdaf5e3e717ee4b8"
  },
  {
   "cell_type": "code",
   "execution_count": 6,
   "outputs": [],
   "source": [
    "merged_df = pd.merge(sp500, factors, on='Date', how='left')"
   ],
   "metadata": {
    "collapsed": false,
    "ExecuteTime": {
     "end_time": "2023-11-08T18:23:17.947885Z",
     "start_time": "2023-11-08T18:23:17.890398Z"
    }
   },
   "id": "c5c5ee22c6bce477"
  },
  {
   "cell_type": "code",
   "execution_count": 7,
   "outputs": [],
   "source": [
    "merged_df['Excess Return'] = merged_df['Monthly Returns'] - merged_df['RF']"
   ],
   "metadata": {
    "collapsed": false,
    "ExecuteTime": {
     "end_time": "2023-11-08T18:23:50.141486Z",
     "start_time": "2023-11-08T18:23:50.102949Z"
    }
   },
   "id": "334f48245bda71ae"
  },
  {
   "cell_type": "code",
   "execution_count": 8,
   "outputs": [],
   "source": [
    "merged_df = merged_df.sort_values(by='Date')\n",
    "merged_df['ex_ret_1'] = merged_df.groupby('Symbol')['Excess Return'].shift(-1)"
   ],
   "metadata": {
    "collapsed": false,
    "ExecuteTime": {
     "end_time": "2023-11-08T18:24:20.260222Z",
     "start_time": "2023-11-08T18:24:20.164807Z"
    }
   },
   "id": "1da31db232b59571"
  },
  {
   "cell_type": "code",
   "execution_count": 9,
   "outputs": [],
   "source": [
    "merged_df = merged_df.dropna(subset=['ex_ret_1'])\n",
    "merged_df = merged_df.dropna(subset=['HML'])"
   ],
   "metadata": {
    "collapsed": false,
    "ExecuteTime": {
     "end_time": "2023-11-08T18:24:55.096855Z",
     "start_time": "2023-11-08T18:24:55.014937Z"
    }
   },
   "id": "39775031bb3918d6"
  },
  {
   "cell_type": "markdown",
   "source": [
    "### Adatelőkészítés (0 pont)\n",
    "1., Olvasd be a data mappa __sp500.parquet__ nevű fájlját egy DataFrame-be. A betöltéshez használt engine paramétere legyen <u>fastparquet</u>\n",
    "2., Olvasd be az __ff_factors.parquet__ fájlt egy DataFrame-be. A betöltéshez használt engine paramétere legyen <u>fastparquet</u>\n",
    "3., Kapcsold össze a két DataFrame-t egy új DataFrame-be. Az összekapcsolás módja, hogy a hozam adatokra balról kapcsoljuk rá a factor adatokat a __'Date' elsődleges kulcs__ alapján.\n",
    "4., Készíts egy új __'Excess Return'__ nevű oszlopot, ami a havi hozamok és a kockázat mentes hozam (RF) különbsége\n",
    "5., <u>Rendezd sorba dátum szerint az adatokat</u>, majd generálj egy új oszlopot (__'ex_ret_1'__), amely minden ticker ('Symbol') esetén 1-el eltolja az Excess Return értékeit olyan módon, hogy minden sorban szerepeljen a <u>következő időszaki Excess Return</u> érték. \n",
    "6., A meglévő adathalmazt írd felül olyan módon, hogy egyszer <u>törlöd az össze olyan sort</u>, amely az __'ex_ret_1' oszlopban hiányos__, majd ezt követően, törlöd az összes olyan sort, ami a __'HML' oszlopban hiányos__.\n"
   ],
   "metadata": {
    "collapsed": false
   },
   "id": "dad5a013c358987e"
  },
  {
   "cell_type": "markdown",
   "source": [
    "3. feladat segítség\n",
    "![Joined data](../resources/weekly6/joined_data.jpg)"
   ],
   "metadata": {
    "collapsed": false
   },
   "id": "cf54c6765186a23e"
  },
  {
   "cell_type": "markdown",
   "source": [
    "5. feladat segítség\n",
    "![new column](../resources/weekly6/ex_ret_1.jpg)"
   ],
   "metadata": {
    "collapsed": false
   },
   "id": "a6be746933376572"
  },
  {
   "cell_type": "code",
   "execution_count": null,
   "id": "44865d1982f4fe17",
   "metadata": {
    "collapsed": false
   },
   "outputs": [],
   "source": []
  },
  {
   "cell_type": "markdown",
   "source": [
    "### Modell összeállítás (7 pont)\n",
    "\n",
    "A meglévő adatokból válaszd ki a __Amazon részvényhez tartozó sorokat (AMZN)__ és töröld a tickereket tartalmazó oszlopot.\n",
    " <u>Ebben a blokkban önellenőrzésre használhatod a legutóbbi zárthelyin írt osztályodat.</u>\n",
    "\n",
    "7., Készíts egy új __LinearRegressionNP__ elnevezésű osztályt. Definiáld benne a __\\_\\_init\\_\\___ nevű függvényt, amely bemenetként 2 DataFrame-t kap amelyeket ments le a left_hand_side és right_hand_side elnevezésű változókba. Az egyik DataFrame fogja tartalmazni a következő hónap többlet hozamait (__left_hand_side__), a másik a piaci hozamokat (Mkt-RF), az SMB és a HML értékeket (__right_hand_side__).\n",
    "\n",
    "8., Egésztsd ki az osztályt egy __fit__ metódussal, ami OLS elvű becslést hajt végre. Figyelj oda, hogy a regresszió futtatása során konstans (alfa / béta_0) is szerepeljen a predictor változók között. <u>__(numpy.linalg.lstsq() nem használható)__</u>\n",
    "\n",
    "9., Egészítsd ki az osztályt egy __get_params__ metódussal, ami visszaadja a becsült modell béta paramétereinek értékeit. A visszakapott pandas Series típusú adatban az oszlop neve legyen __Beta coefficients__. \n",
    "\n",
    "10., Egészítsd ki az osztályt egy __get_pvalues__ metódussal, ami visszaadja a becsült modell paraméterekhez tartozó p értékeket. A visszakapott pandas Series típusú adatban az oszlop neve legyen: __P-values for the corresponding coefficients__. A p értéket t-statisztika alapján számold ki. A p-érték kiszámításánál figyelj alkalmazd a <u>min(value, 1-value) * 2</u> képletet.\n",
    "\n",
    "11., Egészítsd ki az osztályt egy __get_wald_test_result__ metódussal, ami visszaadja a bemeneti restrikciós mátrix alapján számolt F és p értékeket. A visszatérési típus string legyen, a visszaadandó szöveg: __Wald: wald_value, p-value: p_value__, ahol az wald_value és p_value helyére 3 tizedesjegyre kerekítve (__:.3f__) add meg a hozzájuk tartozó értékeket. A függvény bemenete során feltételezzük, hogy r minden eleme 0, R-t listák listája formában adjuk át. A Wald statisztika p értékét az előző feladathoz hasonlóan számold ki, de figyelj, hogy a <u>teszt 1 oldalú</u>.\n",
    "\n",
    "12., Egészítse ki az osztályt egy __get_model_goodness_values__ metódussal, ami visszadja a centrált és a módosított R-négyzet értékeket. A visszatérési típus string legyen, a visszaadandó szöveg: __Centered R-squared: crs, Adjusted R-squared: ars__, ahol crs és ars helyére 3 tizedesjegyre kerekítve (__:.3f__) add meg a hozzájuk tartozó értékeket. <u>Ha a regresszorok számába eredetileg beleszámítottad a konstanst is, akkor a módosított R-négyzet számítás nevezőjében nincs szükség a __-1__-es tagra</u>."
   ],
   "metadata": {
    "collapsed": false
   },
   "id": "1888d0ef54d4b2c3"
  },
  {
   "cell_type": "code",
   "execution_count": 10,
   "outputs": [],
   "source": [
    "amazon = merged_df[merged_df['Symbol'] == 'AMZN']\n",
    "amazon = amazon.drop(columns=['Symbol'])"
   ],
   "metadata": {
    "collapsed": false,
    "ExecuteTime": {
     "end_time": "2023-11-08T18:25:58.664680Z",
     "start_time": "2023-11-08T18:25:58.597302Z"
    }
   },
   "id": "220975d29160a84e"
  },
  {
   "cell_type": "code",
   "execution_count": null,
   "outputs": [],
   "source": [
    "class LinearRegressionNP:\n",
    "    def __init__(self, left_hand_side, right_hand_side):\n",
    "        self.left_hand_side = left_hand_side\n",
    "        self.right_hand_side = right_hand_side\n",
    "        self.model = None\n",
    "\n",
    "    def fit(self):\n",
    "        X = self.right_hand_side\n",
    "        y = self.left_hand_side\n",
    "        X = np.column_stack((np.ones(X.shape[0]), X))\n",
    "        XTX = np.dot(X.T, X)\n",
    "        XTy = np.dot(X.T, y)\n",
    "        beta = np.linalg.solve(XTX, XTy)\n",
    "        alpha = beta[0]\n",
    "        beta = beta[1:]\n",
    "        return alpha, beta \n",
    "\n",
    "    def get_params(self):\n",
    "        X = self.right_hand_side\n",
    "        y = self.left_hand_side\n",
    "        X = np.column_stack((np.ones(X.shape[0]), X))\n",
    "\n",
    "        XTX = np.dot(X.T, X)\n",
    "        XTy = np.dot(X.T, y)\n",
    "\n",
    "        beta = np.linalg.solve(XTX, XTy)\n",
    "        beta_series = pd.Series(beta[1:], name=\"Beta coefficients\")\n",
    "        return beta_series\n",
    "\n",
    "    def get_pvalues(self):\n",
    "        X = self.right_hand_side\n",
    "        y = self.left_hand_side\n",
    "        X = np.column_stack((np.ones(X.shape[0]), X))\n",
    "\n",
    "        XTX = np.dot(X.T, X)\n",
    "        XTy = np.dot(X.T, y)\n",
    "\n",
    "        beta = np.linalg.solve(XTX, XTy)\n",
    "        y_pred = np.dot(X, beta)\n",
    "        residuals = y - y_pred\n",
    "        mse = np.sum(residuals**2) / (X.shape[0] - X.shape[1])\n",
    "        t_stats = beta / np.sqrt(np.diagonal(mse * np.linalg.inv(XTX)))\n",
    "        p_values = 2 * (1 - t.cdf(np.abs(t_stats), X.shape[0] - X.shape[1]))\n",
    "        p_values_series = pd.Series(p_values[1:], name=\"P-values for the corresponding coefficients\")\n",
    "    \n",
    "        return p_values_series\n",
    "\n",
    "    def get_wald_test_result(self, R):\n",
    "    \n",
    "        X = self.right_hand_side\n",
    "        y = self.left_hand_side\n",
    "        X = np.column_stack((np.ones(X.shape[0]), X))\n",
    "\n",
    "        XTX = np.dot(X.T, X)\n",
    "        XTy = np.dot(X.T, y)\n",
    "        beta_hat = np.linalg.solve(XTX, XTy)\n",
    "\n",
    "        n = X.shape[0]\n",
    "        residuals = y - np.dot(X, beta_hat)\n",
    "        sse = np.sum(residuals**2)\n",
    "\n",
    "        wald_value = np.dot(np.dot(R, beta_hat), R.T) / sse\n",
    "\n",
    "        df1 = R.shape[0]\n",
    "        df2 = n - X.shape[1]\n",
    "\n",
    "        p_value = 1 - f.cdf(wald_value, df1, df2)\n",
    "\n",
    "        result_string = f\"Wald: {wald_value:.3f}, p-value: {p_value:.3f}\"\n",
    "    \n",
    "        return result_string\n",
    "\n",
    "    def get_model_goodness_values(self):\n",
    "        \n",
    "        X = self.right_hand_side\n",
    "        y = self.left_hand_side\n",
    "        n = X.shape[0]\n",
    "        p = X.shape[1] \n",
    "\n",
    "        X = np.column_stack((np.ones(n), X))\n",
    "\n",
    "    # Az OLS becsléshez szükséges mátrixok kiszámítása\n",
    "        XTX = np.dot(X.T, X)\n",
    "        XTy = np.dot(X.T, y)\n",
    "\n",
    "    # A modell hibakvadrátumának számítása\n",
    "        residuals = y - np.dot(X, self.get_params())\n",
    "        sse = np.sum(residuals**2)\n",
    "\n",
    "    # A teljes variabilitás számítása\n",
    "        sst = np.sum((y - np.mean(y))**2)\n",
    "\n",
    "    # Centrált R-négyzet számítása\n",
    "        crs = 1 - sse / sst\n",
    "\n",
    "    # Módosított R-négyzet számítása\n",
    "        ars = 1 - (sse / (n - p - 1)) / (sst / (n - 1))\n",
    "\n",
    "    # Visszaadjuk az eredményt a megadott formátumban\n",
    "        result_string = f\"Centered R-squared: {crs:.3f}, Adjusted R-squared: {ars:.3f}\"\n",
    "\n",
    "        return result_string"
   ],
   "metadata": {
    "collapsed": false
   },
   "id": "b9457f7880e8b7da"
  }
 ],
 "metadata": {
  "kernelspec": {
   "display_name": "Python 3 (ipykernel)",
   "language": "python",
   "name": "python3"
  },
  "language_info": {
   "codemirror_mode": {
    "name": "ipython",
    "version": 3
   },
   "file_extension": ".py",
   "mimetype": "text/x-python",
   "name": "python",
   "nbconvert_exporter": "python",
   "pygments_lexer": "ipython3",
   "version": "3.10.4"
  }
 },
 "nbformat": 4,
 "nbformat_minor": 5
}
